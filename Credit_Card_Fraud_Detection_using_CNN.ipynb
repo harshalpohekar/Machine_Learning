{
 "cells": [
  {
   "cell_type": "markdown",
   "metadata": {},
   "source": [
    "# Credit Card Fraud Detection using CNN\n",
    "\n",
    "## Anonymized credit card transactions labeled as fraudelent or genuine\n",
    "\n",
    "### It contains only numerical data which is a result of PCA transformation\n",
    "\n",
    "### unbalanced dataset - ML agorithms overfits due to features with higher numbers"
   ]
  },
  {
   "cell_type": "markdown",
   "metadata": {},
   "source": [
    "# Importing Modules"
   ]
  },
  {
   "cell_type": "code",
   "execution_count": 169,
   "metadata": {},
   "outputs": [],
   "source": [
    "import tensorflow as tf\n",
    "from tensorflow import keras\n",
    "from tensorflow.keras import Sequential\n",
    "from tensorflow.keras.layers import Flatten, Dense, Dropout, BatchNormalization\n",
    "from tensorflow.keras.layers import Conv1D, MaxPool1D\n",
    "from tensorflow.keras.optimizers import Adam"
   ]
  },
  {
   "cell_type": "code",
   "execution_count": 170,
   "metadata": {},
   "outputs": [],
   "source": [
    "import pandas as pd\n",
    "import numpy as np\n",
    "import seaborn as sns\n",
    "import matplotlib.pyplot as plt\n",
    "from sklearn.model_selection import train_test_split\n",
    "from sklearn.preprocessing import StandardScaler"
   ]
  },
  {
   "cell_type": "markdown",
   "metadata": {},
   "source": [
    "## Loading Dataset"
   ]
  },
  {
   "cell_type": "code",
   "execution_count": 171,
   "metadata": {},
   "outputs": [
    {
     "data": {
      "text/html": [
       "<div>\n",
       "<style scoped>\n",
       "    .dataframe tbody tr th:only-of-type {\n",
       "        vertical-align: middle;\n",
       "    }\n",
       "\n",
       "    .dataframe tbody tr th {\n",
       "        vertical-align: top;\n",
       "    }\n",
       "\n",
       "    .dataframe thead th {\n",
       "        text-align: right;\n",
       "    }\n",
       "</style>\n",
       "<table border=\"1\" class=\"dataframe\">\n",
       "  <thead>\n",
       "    <tr style=\"text-align: right;\">\n",
       "      <th></th>\n",
       "      <th>Time</th>\n",
       "      <th>V1</th>\n",
       "      <th>V2</th>\n",
       "      <th>V3</th>\n",
       "      <th>V4</th>\n",
       "      <th>V5</th>\n",
       "      <th>V6</th>\n",
       "      <th>V7</th>\n",
       "      <th>V8</th>\n",
       "      <th>V9</th>\n",
       "      <th>V10</th>\n",
       "      <th>V11</th>\n",
       "      <th>V12</th>\n",
       "      <th>V13</th>\n",
       "      <th>V14</th>\n",
       "      <th>V15</th>\n",
       "      <th>V16</th>\n",
       "      <th>V17</th>\n",
       "      <th>V18</th>\n",
       "      <th>V19</th>\n",
       "      <th>V20</th>\n",
       "      <th>V21</th>\n",
       "      <th>V22</th>\n",
       "      <th>V23</th>\n",
       "      <th>V24</th>\n",
       "      <th>V25</th>\n",
       "      <th>V26</th>\n",
       "      <th>V27</th>\n",
       "      <th>V28</th>\n",
       "      <th>Amount</th>\n",
       "      <th>Class</th>\n",
       "    </tr>\n",
       "  </thead>\n",
       "  <tbody>\n",
       "    <tr>\n",
       "      <th>0</th>\n",
       "      <td>0.0</td>\n",
       "      <td>-1.359807</td>\n",
       "      <td>-0.072781</td>\n",
       "      <td>2.536347</td>\n",
       "      <td>1.378155</td>\n",
       "      <td>-0.338321</td>\n",
       "      <td>0.462388</td>\n",
       "      <td>0.239599</td>\n",
       "      <td>0.098698</td>\n",
       "      <td>0.363787</td>\n",
       "      <td>0.090794</td>\n",
       "      <td>-0.551600</td>\n",
       "      <td>-0.617801</td>\n",
       "      <td>-0.991390</td>\n",
       "      <td>-0.311169</td>\n",
       "      <td>1.468177</td>\n",
       "      <td>-0.470401</td>\n",
       "      <td>0.207971</td>\n",
       "      <td>0.025791</td>\n",
       "      <td>0.403993</td>\n",
       "      <td>0.251412</td>\n",
       "      <td>-0.018307</td>\n",
       "      <td>0.277838</td>\n",
       "      <td>-0.110474</td>\n",
       "      <td>0.066928</td>\n",
       "      <td>0.128539</td>\n",
       "      <td>-0.189115</td>\n",
       "      <td>0.133558</td>\n",
       "      <td>-0.021053</td>\n",
       "      <td>149.62</td>\n",
       "      <td>0</td>\n",
       "    </tr>\n",
       "    <tr>\n",
       "      <th>1</th>\n",
       "      <td>0.0</td>\n",
       "      <td>1.191857</td>\n",
       "      <td>0.266151</td>\n",
       "      <td>0.166480</td>\n",
       "      <td>0.448154</td>\n",
       "      <td>0.060018</td>\n",
       "      <td>-0.082361</td>\n",
       "      <td>-0.078803</td>\n",
       "      <td>0.085102</td>\n",
       "      <td>-0.255425</td>\n",
       "      <td>-0.166974</td>\n",
       "      <td>1.612727</td>\n",
       "      <td>1.065235</td>\n",
       "      <td>0.489095</td>\n",
       "      <td>-0.143772</td>\n",
       "      <td>0.635558</td>\n",
       "      <td>0.463917</td>\n",
       "      <td>-0.114805</td>\n",
       "      <td>-0.183361</td>\n",
       "      <td>-0.145783</td>\n",
       "      <td>-0.069083</td>\n",
       "      <td>-0.225775</td>\n",
       "      <td>-0.638672</td>\n",
       "      <td>0.101288</td>\n",
       "      <td>-0.339846</td>\n",
       "      <td>0.167170</td>\n",
       "      <td>0.125895</td>\n",
       "      <td>-0.008983</td>\n",
       "      <td>0.014724</td>\n",
       "      <td>2.69</td>\n",
       "      <td>0</td>\n",
       "    </tr>\n",
       "    <tr>\n",
       "      <th>2</th>\n",
       "      <td>1.0</td>\n",
       "      <td>-1.358354</td>\n",
       "      <td>-1.340163</td>\n",
       "      <td>1.773209</td>\n",
       "      <td>0.379780</td>\n",
       "      <td>-0.503198</td>\n",
       "      <td>1.800499</td>\n",
       "      <td>0.791461</td>\n",
       "      <td>0.247676</td>\n",
       "      <td>-1.514654</td>\n",
       "      <td>0.207643</td>\n",
       "      <td>0.624501</td>\n",
       "      <td>0.066084</td>\n",
       "      <td>0.717293</td>\n",
       "      <td>-0.165946</td>\n",
       "      <td>2.345865</td>\n",
       "      <td>-2.890083</td>\n",
       "      <td>1.109969</td>\n",
       "      <td>-0.121359</td>\n",
       "      <td>-2.261857</td>\n",
       "      <td>0.524980</td>\n",
       "      <td>0.247998</td>\n",
       "      <td>0.771679</td>\n",
       "      <td>0.909412</td>\n",
       "      <td>-0.689281</td>\n",
       "      <td>-0.327642</td>\n",
       "      <td>-0.139097</td>\n",
       "      <td>-0.055353</td>\n",
       "      <td>-0.059752</td>\n",
       "      <td>378.66</td>\n",
       "      <td>0</td>\n",
       "    </tr>\n",
       "    <tr>\n",
       "      <th>3</th>\n",
       "      <td>1.0</td>\n",
       "      <td>-0.966272</td>\n",
       "      <td>-0.185226</td>\n",
       "      <td>1.792993</td>\n",
       "      <td>-0.863291</td>\n",
       "      <td>-0.010309</td>\n",
       "      <td>1.247203</td>\n",
       "      <td>0.237609</td>\n",
       "      <td>0.377436</td>\n",
       "      <td>-1.387024</td>\n",
       "      <td>-0.054952</td>\n",
       "      <td>-0.226487</td>\n",
       "      <td>0.178228</td>\n",
       "      <td>0.507757</td>\n",
       "      <td>-0.287924</td>\n",
       "      <td>-0.631418</td>\n",
       "      <td>-1.059647</td>\n",
       "      <td>-0.684093</td>\n",
       "      <td>1.965775</td>\n",
       "      <td>-1.232622</td>\n",
       "      <td>-0.208038</td>\n",
       "      <td>-0.108300</td>\n",
       "      <td>0.005274</td>\n",
       "      <td>-0.190321</td>\n",
       "      <td>-1.175575</td>\n",
       "      <td>0.647376</td>\n",
       "      <td>-0.221929</td>\n",
       "      <td>0.062723</td>\n",
       "      <td>0.061458</td>\n",
       "      <td>123.50</td>\n",
       "      <td>0</td>\n",
       "    </tr>\n",
       "    <tr>\n",
       "      <th>4</th>\n",
       "      <td>2.0</td>\n",
       "      <td>-1.158233</td>\n",
       "      <td>0.877737</td>\n",
       "      <td>1.548718</td>\n",
       "      <td>0.403034</td>\n",
       "      <td>-0.407193</td>\n",
       "      <td>0.095921</td>\n",
       "      <td>0.592941</td>\n",
       "      <td>-0.270533</td>\n",
       "      <td>0.817739</td>\n",
       "      <td>0.753074</td>\n",
       "      <td>-0.822843</td>\n",
       "      <td>0.538196</td>\n",
       "      <td>1.345852</td>\n",
       "      <td>-1.119670</td>\n",
       "      <td>0.175121</td>\n",
       "      <td>-0.451449</td>\n",
       "      <td>-0.237033</td>\n",
       "      <td>-0.038195</td>\n",
       "      <td>0.803487</td>\n",
       "      <td>0.408542</td>\n",
       "      <td>-0.009431</td>\n",
       "      <td>0.798278</td>\n",
       "      <td>-0.137458</td>\n",
       "      <td>0.141267</td>\n",
       "      <td>-0.206010</td>\n",
       "      <td>0.502292</td>\n",
       "      <td>0.219422</td>\n",
       "      <td>0.215153</td>\n",
       "      <td>69.99</td>\n",
       "      <td>0</td>\n",
       "    </tr>\n",
       "  </tbody>\n",
       "</table>\n",
       "</div>"
      ],
      "text/plain": [
       "   Time        V1        V2        V3        V4        V5  ...       V25       V26       V27       V28  Amount  Class\n",
       "0   0.0 -1.359807 -0.072781  2.536347  1.378155 -0.338321  ...  0.128539 -0.189115  0.133558 -0.021053  149.62      0\n",
       "1   0.0  1.191857  0.266151  0.166480  0.448154  0.060018  ...  0.167170  0.125895 -0.008983  0.014724    2.69      0\n",
       "2   1.0 -1.358354 -1.340163  1.773209  0.379780 -0.503198  ... -0.327642 -0.139097 -0.055353 -0.059752  378.66      0\n",
       "3   1.0 -0.966272 -0.185226  1.792993 -0.863291 -0.010309  ...  0.647376 -0.221929  0.062723  0.061458  123.50      0\n",
       "4   2.0 -1.158233  0.877737  1.548718  0.403034 -0.407193  ... -0.206010  0.502292  0.219422  0.215153   69.99      0\n",
       "\n",
       "[5 rows x 31 columns]"
      ]
     },
     "execution_count": 171,
     "metadata": {},
     "output_type": "execute_result"
    }
   ],
   "source": [
    "data = pd.read_csv(r\"D:\\Downloads\\Videos\\Krish\\Datasets\\Credit Card\\creditcard.csv\")\n",
    "data.head()"
   ]
  },
  {
   "cell_type": "code",
   "execution_count": 172,
   "metadata": {
    "scrolled": true
   },
   "outputs": [
    {
     "data": {
      "text/plain": [
       "(284807, 31)"
      ]
     },
     "execution_count": 172,
     "metadata": {},
     "output_type": "execute_result"
    }
   ],
   "source": [
    "data.shape"
   ]
  },
  {
   "cell_type": "markdown",
   "metadata": {},
   "source": [
    "## Null Value Check"
   ]
  },
  {
   "cell_type": "code",
   "execution_count": 173,
   "metadata": {},
   "outputs": [
    {
     "data": {
      "text/plain": [
       "Time      0\n",
       "V1        0\n",
       "V2        0\n",
       "V3        0\n",
       "V4        0\n",
       "V5        0\n",
       "V6        0\n",
       "V7        0\n",
       "V8        0\n",
       "V9        0\n",
       "V10       0\n",
       "V11       0\n",
       "V12       0\n",
       "V13       0\n",
       "V14       0\n",
       "V15       0\n",
       "V16       0\n",
       "V17       0\n",
       "V18       0\n",
       "V19       0\n",
       "V20       0\n",
       "V21       0\n",
       "V22       0\n",
       "V23       0\n",
       "V24       0\n",
       "V25       0\n",
       "V26       0\n",
       "V27       0\n",
       "V28       0\n",
       "Amount    0\n",
       "Class     0\n",
       "dtype: int64"
      ]
     },
     "execution_count": 173,
     "metadata": {},
     "output_type": "execute_result"
    }
   ],
   "source": [
    "data.isnull().sum()"
   ]
  },
  {
   "cell_type": "code",
   "execution_count": 174,
   "metadata": {},
   "outputs": [
    {
     "name": "stdout",
     "output_type": "stream",
     "text": [
      "<class 'pandas.core.frame.DataFrame'>\n",
      "RangeIndex: 284807 entries, 0 to 284806\n",
      "Data columns (total 31 columns):\n",
      " #   Column  Non-Null Count   Dtype  \n",
      "---  ------  --------------   -----  \n",
      " 0   Time    284807 non-null  float64\n",
      " 1   V1      284807 non-null  float64\n",
      " 2   V2      284807 non-null  float64\n",
      " 3   V3      284807 non-null  float64\n",
      " 4   V4      284807 non-null  float64\n",
      " 5   V5      284807 non-null  float64\n",
      " 6   V6      284807 non-null  float64\n",
      " 7   V7      284807 non-null  float64\n",
      " 8   V8      284807 non-null  float64\n",
      " 9   V9      284807 non-null  float64\n",
      " 10  V10     284807 non-null  float64\n",
      " 11  V11     284807 non-null  float64\n",
      " 12  V12     284807 non-null  float64\n",
      " 13  V13     284807 non-null  float64\n",
      " 14  V14     284807 non-null  float64\n",
      " 15  V15     284807 non-null  float64\n",
      " 16  V16     284807 non-null  float64\n",
      " 17  V17     284807 non-null  float64\n",
      " 18  V18     284807 non-null  float64\n",
      " 19  V19     284807 non-null  float64\n",
      " 20  V20     284807 non-null  float64\n",
      " 21  V21     284807 non-null  float64\n",
      " 22  V22     284807 non-null  float64\n",
      " 23  V23     284807 non-null  float64\n",
      " 24  V24     284807 non-null  float64\n",
      " 25  V25     284807 non-null  float64\n",
      " 26  V26     284807 non-null  float64\n",
      " 27  V27     284807 non-null  float64\n",
      " 28  V28     284807 non-null  float64\n",
      " 29  Amount  284807 non-null  float64\n",
      " 30  Class   284807 non-null  int64  \n",
      "dtypes: float64(30), int64(1)\n",
      "memory usage: 67.4 MB\n"
     ]
    }
   ],
   "source": [
    "data.info()"
   ]
  },
  {
   "cell_type": "code",
   "execution_count": 175,
   "metadata": {},
   "outputs": [
    {
     "data": {
      "text/plain": [
       "0    284315\n",
       "1       492\n",
       "Name: Class, dtype: int64"
      ]
     },
     "execution_count": 175,
     "metadata": {},
     "output_type": "execute_result"
    }
   ],
   "source": [
    "data['Class'].value_counts()"
   ]
  },
  {
   "cell_type": "markdown",
   "metadata": {},
   "source": [
    "## Imbalance to balanced dataset"
   ]
  },
  {
   "cell_type": "code",
   "execution_count": 177,
   "metadata": {},
   "outputs": [],
   "source": [
    "non_fraud = data[data['Class']==0]\n",
    "fraud = data[data['Class']==1]"
   ]
  },
  {
   "cell_type": "code",
   "execution_count": 178,
   "metadata": {},
   "outputs": [
    {
     "data": {
      "text/plain": [
       "((284315, 31), (492, 31))"
      ]
     },
     "execution_count": 178,
     "metadata": {},
     "output_type": "execute_result"
    }
   ],
   "source": [
    "non_fraud.shape, fraud.shape"
   ]
  },
  {
   "cell_type": "code",
   "execution_count": 179,
   "metadata": {},
   "outputs": [
    {
     "data": {
      "text/plain": [
       "(492, 31)"
      ]
     },
     "execution_count": 179,
     "metadata": {},
     "output_type": "execute_result"
    }
   ],
   "source": [
    "non_fraud = non_fraud.sample(fraud.shape[0])\n",
    "non_fraud.shape"
   ]
  },
  {
   "cell_type": "markdown",
   "metadata": {},
   "source": [
    "## Merging data"
   ]
  },
  {
   "cell_type": "code",
   "execution_count": 180,
   "metadata": {},
   "outputs": [
    {
     "data": {
      "text/html": [
       "<div>\n",
       "<style scoped>\n",
       "    .dataframe tbody tr th:only-of-type {\n",
       "        vertical-align: middle;\n",
       "    }\n",
       "\n",
       "    .dataframe tbody tr th {\n",
       "        vertical-align: top;\n",
       "    }\n",
       "\n",
       "    .dataframe thead th {\n",
       "        text-align: right;\n",
       "    }\n",
       "</style>\n",
       "<table border=\"1\" class=\"dataframe\">\n",
       "  <thead>\n",
       "    <tr style=\"text-align: right;\">\n",
       "      <th></th>\n",
       "      <th>Time</th>\n",
       "      <th>V1</th>\n",
       "      <th>V2</th>\n",
       "      <th>V3</th>\n",
       "      <th>V4</th>\n",
       "      <th>V5</th>\n",
       "      <th>V6</th>\n",
       "      <th>V7</th>\n",
       "      <th>V8</th>\n",
       "      <th>V9</th>\n",
       "      <th>V10</th>\n",
       "      <th>V11</th>\n",
       "      <th>V12</th>\n",
       "      <th>V13</th>\n",
       "      <th>V14</th>\n",
       "      <th>V15</th>\n",
       "      <th>V16</th>\n",
       "      <th>V17</th>\n",
       "      <th>V18</th>\n",
       "      <th>V19</th>\n",
       "      <th>V20</th>\n",
       "      <th>V21</th>\n",
       "      <th>V22</th>\n",
       "      <th>V23</th>\n",
       "      <th>V24</th>\n",
       "      <th>V25</th>\n",
       "      <th>V26</th>\n",
       "      <th>V27</th>\n",
       "      <th>V28</th>\n",
       "      <th>Amount</th>\n",
       "      <th>Class</th>\n",
       "    </tr>\n",
       "  </thead>\n",
       "  <tbody>\n",
       "    <tr>\n",
       "      <th>0</th>\n",
       "      <td>406.0</td>\n",
       "      <td>-2.312227</td>\n",
       "      <td>1.951992</td>\n",
       "      <td>-1.609851</td>\n",
       "      <td>3.997906</td>\n",
       "      <td>-0.522188</td>\n",
       "      <td>-1.426545</td>\n",
       "      <td>-2.537387</td>\n",
       "      <td>1.391657</td>\n",
       "      <td>-2.770089</td>\n",
       "      <td>-2.772272</td>\n",
       "      <td>3.202033</td>\n",
       "      <td>-2.899907</td>\n",
       "      <td>-0.595222</td>\n",
       "      <td>-4.289254</td>\n",
       "      <td>0.389724</td>\n",
       "      <td>-1.140747</td>\n",
       "      <td>-2.830056</td>\n",
       "      <td>-0.016822</td>\n",
       "      <td>0.416956</td>\n",
       "      <td>0.126911</td>\n",
       "      <td>0.517232</td>\n",
       "      <td>-0.035049</td>\n",
       "      <td>-0.465211</td>\n",
       "      <td>0.320198</td>\n",
       "      <td>0.044519</td>\n",
       "      <td>0.177840</td>\n",
       "      <td>0.261145</td>\n",
       "      <td>-0.143276</td>\n",
       "      <td>0.00</td>\n",
       "      <td>1</td>\n",
       "    </tr>\n",
       "    <tr>\n",
       "      <th>1</th>\n",
       "      <td>472.0</td>\n",
       "      <td>-3.043541</td>\n",
       "      <td>-3.157307</td>\n",
       "      <td>1.088463</td>\n",
       "      <td>2.288644</td>\n",
       "      <td>1.359805</td>\n",
       "      <td>-1.064823</td>\n",
       "      <td>0.325574</td>\n",
       "      <td>-0.067794</td>\n",
       "      <td>-0.270953</td>\n",
       "      <td>-0.838587</td>\n",
       "      <td>-0.414575</td>\n",
       "      <td>-0.503141</td>\n",
       "      <td>0.676502</td>\n",
       "      <td>-1.692029</td>\n",
       "      <td>2.000635</td>\n",
       "      <td>0.666780</td>\n",
       "      <td>0.599717</td>\n",
       "      <td>1.725321</td>\n",
       "      <td>0.283345</td>\n",
       "      <td>2.102339</td>\n",
       "      <td>0.661696</td>\n",
       "      <td>0.435477</td>\n",
       "      <td>1.375966</td>\n",
       "      <td>-0.293803</td>\n",
       "      <td>0.279798</td>\n",
       "      <td>-0.145362</td>\n",
       "      <td>-0.252773</td>\n",
       "      <td>0.035764</td>\n",
       "      <td>529.00</td>\n",
       "      <td>1</td>\n",
       "    </tr>\n",
       "    <tr>\n",
       "      <th>2</th>\n",
       "      <td>4462.0</td>\n",
       "      <td>-2.303350</td>\n",
       "      <td>1.759247</td>\n",
       "      <td>-0.359745</td>\n",
       "      <td>2.330243</td>\n",
       "      <td>-0.821628</td>\n",
       "      <td>-0.075788</td>\n",
       "      <td>0.562320</td>\n",
       "      <td>-0.399147</td>\n",
       "      <td>-0.238253</td>\n",
       "      <td>-1.525412</td>\n",
       "      <td>2.032912</td>\n",
       "      <td>-6.560124</td>\n",
       "      <td>0.022937</td>\n",
       "      <td>-1.470102</td>\n",
       "      <td>-0.698826</td>\n",
       "      <td>-2.282194</td>\n",
       "      <td>-4.781831</td>\n",
       "      <td>-2.615665</td>\n",
       "      <td>-1.334441</td>\n",
       "      <td>-0.430022</td>\n",
       "      <td>-0.294166</td>\n",
       "      <td>-0.932391</td>\n",
       "      <td>0.172726</td>\n",
       "      <td>-0.087330</td>\n",
       "      <td>-0.156114</td>\n",
       "      <td>-0.542628</td>\n",
       "      <td>0.039566</td>\n",
       "      <td>-0.153029</td>\n",
       "      <td>239.93</td>\n",
       "      <td>1</td>\n",
       "    </tr>\n",
       "    <tr>\n",
       "      <th>3</th>\n",
       "      <td>6986.0</td>\n",
       "      <td>-4.397974</td>\n",
       "      <td>1.358367</td>\n",
       "      <td>-2.592844</td>\n",
       "      <td>2.679787</td>\n",
       "      <td>-1.128131</td>\n",
       "      <td>-1.706536</td>\n",
       "      <td>-3.496197</td>\n",
       "      <td>-0.248778</td>\n",
       "      <td>-0.247768</td>\n",
       "      <td>-4.801637</td>\n",
       "      <td>4.895844</td>\n",
       "      <td>-10.912819</td>\n",
       "      <td>0.184372</td>\n",
       "      <td>-6.771097</td>\n",
       "      <td>-0.007326</td>\n",
       "      <td>-7.358083</td>\n",
       "      <td>-12.598419</td>\n",
       "      <td>-5.131549</td>\n",
       "      <td>0.308334</td>\n",
       "      <td>-0.171608</td>\n",
       "      <td>0.573574</td>\n",
       "      <td>0.176968</td>\n",
       "      <td>-0.436207</td>\n",
       "      <td>-0.053502</td>\n",
       "      <td>0.252405</td>\n",
       "      <td>-0.657488</td>\n",
       "      <td>-0.827136</td>\n",
       "      <td>0.849573</td>\n",
       "      <td>59.00</td>\n",
       "      <td>1</td>\n",
       "    </tr>\n",
       "    <tr>\n",
       "      <th>4</th>\n",
       "      <td>7519.0</td>\n",
       "      <td>1.234235</td>\n",
       "      <td>3.019740</td>\n",
       "      <td>-4.304597</td>\n",
       "      <td>4.732795</td>\n",
       "      <td>3.624201</td>\n",
       "      <td>-1.357746</td>\n",
       "      <td>1.713445</td>\n",
       "      <td>-0.496358</td>\n",
       "      <td>-1.282858</td>\n",
       "      <td>-2.447469</td>\n",
       "      <td>2.101344</td>\n",
       "      <td>-4.609628</td>\n",
       "      <td>1.464378</td>\n",
       "      <td>-6.079337</td>\n",
       "      <td>-0.339237</td>\n",
       "      <td>2.581851</td>\n",
       "      <td>6.739384</td>\n",
       "      <td>3.042493</td>\n",
       "      <td>-2.721853</td>\n",
       "      <td>0.009061</td>\n",
       "      <td>-0.379068</td>\n",
       "      <td>-0.704181</td>\n",
       "      <td>-0.656805</td>\n",
       "      <td>-1.632653</td>\n",
       "      <td>1.488901</td>\n",
       "      <td>0.566797</td>\n",
       "      <td>-0.010016</td>\n",
       "      <td>0.146793</td>\n",
       "      <td>1.00</td>\n",
       "      <td>1</td>\n",
       "    </tr>\n",
       "    <tr>\n",
       "      <th>...</th>\n",
       "      <td>...</td>\n",
       "      <td>...</td>\n",
       "      <td>...</td>\n",
       "      <td>...</td>\n",
       "      <td>...</td>\n",
       "      <td>...</td>\n",
       "      <td>...</td>\n",
       "      <td>...</td>\n",
       "      <td>...</td>\n",
       "      <td>...</td>\n",
       "      <td>...</td>\n",
       "      <td>...</td>\n",
       "      <td>...</td>\n",
       "      <td>...</td>\n",
       "      <td>...</td>\n",
       "      <td>...</td>\n",
       "      <td>...</td>\n",
       "      <td>...</td>\n",
       "      <td>...</td>\n",
       "      <td>...</td>\n",
       "      <td>...</td>\n",
       "      <td>...</td>\n",
       "      <td>...</td>\n",
       "      <td>...</td>\n",
       "      <td>...</td>\n",
       "      <td>...</td>\n",
       "      <td>...</td>\n",
       "      <td>...</td>\n",
       "      <td>...</td>\n",
       "      <td>...</td>\n",
       "      <td>...</td>\n",
       "    </tr>\n",
       "    <tr>\n",
       "      <th>979</th>\n",
       "      <td>55850.0</td>\n",
       "      <td>-0.389776</td>\n",
       "      <td>1.080905</td>\n",
       "      <td>1.693269</td>\n",
       "      <td>0.931013</td>\n",
       "      <td>-0.715821</td>\n",
       "      <td>-0.366998</td>\n",
       "      <td>0.027457</td>\n",
       "      <td>-0.051774</td>\n",
       "      <td>0.013124</td>\n",
       "      <td>0.509924</td>\n",
       "      <td>-0.293721</td>\n",
       "      <td>-0.150074</td>\n",
       "      <td>0.232468</td>\n",
       "      <td>-0.083114</td>\n",
       "      <td>2.033271</td>\n",
       "      <td>-0.176550</td>\n",
       "      <td>0.034830</td>\n",
       "      <td>0.202774</td>\n",
       "      <td>1.381433</td>\n",
       "      <td>0.251510</td>\n",
       "      <td>0.018232</td>\n",
       "      <td>0.074949</td>\n",
       "      <td>0.056376</td>\n",
       "      <td>0.406153</td>\n",
       "      <td>-0.660062</td>\n",
       "      <td>0.369355</td>\n",
       "      <td>-0.064798</td>\n",
       "      <td>0.135137</td>\n",
       "      <td>6.47</td>\n",
       "      <td>0</td>\n",
       "    </tr>\n",
       "    <tr>\n",
       "      <th>980</th>\n",
       "      <td>116151.0</td>\n",
       "      <td>2.240946</td>\n",
       "      <td>-0.756951</td>\n",
       "      <td>-1.644156</td>\n",
       "      <td>-1.215672</td>\n",
       "      <td>-0.091067</td>\n",
       "      <td>-0.368837</td>\n",
       "      <td>-0.542354</td>\n",
       "      <td>-0.102029</td>\n",
       "      <td>-0.688720</td>\n",
       "      <td>1.056488</td>\n",
       "      <td>0.603213</td>\n",
       "      <td>-0.401408</td>\n",
       "      <td>-0.347958</td>\n",
       "      <td>0.297479</td>\n",
       "      <td>-0.190307</td>\n",
       "      <td>1.203458</td>\n",
       "      <td>-0.204430</td>\n",
       "      <td>-0.646437</td>\n",
       "      <td>0.832844</td>\n",
       "      <td>-0.046294</td>\n",
       "      <td>0.440280</td>\n",
       "      <td>1.230169</td>\n",
       "      <td>-0.021561</td>\n",
       "      <td>0.265009</td>\n",
       "      <td>0.224627</td>\n",
       "      <td>0.051656</td>\n",
       "      <td>-0.046425</td>\n",
       "      <td>-0.077353</td>\n",
       "      <td>1.00</td>\n",
       "      <td>0</td>\n",
       "    </tr>\n",
       "    <tr>\n",
       "      <th>981</th>\n",
       "      <td>69741.0</td>\n",
       "      <td>-0.443909</td>\n",
       "      <td>0.419384</td>\n",
       "      <td>1.365417</td>\n",
       "      <td>0.308822</td>\n",
       "      <td>0.779189</td>\n",
       "      <td>1.763115</td>\n",
       "      <td>0.049279</td>\n",
       "      <td>0.685183</td>\n",
       "      <td>-0.386871</td>\n",
       "      <td>-0.408228</td>\n",
       "      <td>1.813523</td>\n",
       "      <td>1.133768</td>\n",
       "      <td>-0.362093</td>\n",
       "      <td>0.249187</td>\n",
       "      <td>0.268451</td>\n",
       "      <td>-1.719555</td>\n",
       "      <td>1.224294</td>\n",
       "      <td>-1.873258</td>\n",
       "      <td>-0.253581</td>\n",
       "      <td>-0.111162</td>\n",
       "      <td>0.086180</td>\n",
       "      <td>0.531866</td>\n",
       "      <td>0.118569</td>\n",
       "      <td>-0.987636</td>\n",
       "      <td>-0.978630</td>\n",
       "      <td>0.349424</td>\n",
       "      <td>0.220148</td>\n",
       "      <td>0.148724</td>\n",
       "      <td>7.22</td>\n",
       "      <td>0</td>\n",
       "    </tr>\n",
       "    <tr>\n",
       "      <th>982</th>\n",
       "      <td>131276.0</td>\n",
       "      <td>-1.365932</td>\n",
       "      <td>1.514527</td>\n",
       "      <td>-0.099985</td>\n",
       "      <td>-0.618530</td>\n",
       "      <td>-0.053101</td>\n",
       "      <td>-1.108463</td>\n",
       "      <td>0.417753</td>\n",
       "      <td>0.484321</td>\n",
       "      <td>-0.542018</td>\n",
       "      <td>-0.873001</td>\n",
       "      <td>-1.246159</td>\n",
       "      <td>0.470174</td>\n",
       "      <td>0.356930</td>\n",
       "      <td>0.663931</td>\n",
       "      <td>-0.443947</td>\n",
       "      <td>0.068200</td>\n",
       "      <td>-0.079277</td>\n",
       "      <td>-0.660891</td>\n",
       "      <td>0.098654</td>\n",
       "      <td>-0.382397</td>\n",
       "      <td>-0.070741</td>\n",
       "      <td>-0.564977</td>\n",
       "      <td>0.039187</td>\n",
       "      <td>-0.015047</td>\n",
       "      <td>-0.384892</td>\n",
       "      <td>0.129566</td>\n",
       "      <td>-0.575644</td>\n",
       "      <td>0.002204</td>\n",
       "      <td>1.98</td>\n",
       "      <td>0</td>\n",
       "    </tr>\n",
       "    <tr>\n",
       "      <th>983</th>\n",
       "      <td>110234.0</td>\n",
       "      <td>-0.164070</td>\n",
       "      <td>0.442592</td>\n",
       "      <td>-0.112198</td>\n",
       "      <td>-1.251698</td>\n",
       "      <td>2.039565</td>\n",
       "      <td>4.409198</td>\n",
       "      <td>-0.626167</td>\n",
       "      <td>0.117655</td>\n",
       "      <td>1.880094</td>\n",
       "      <td>-1.222391</td>\n",
       "      <td>1.193235</td>\n",
       "      <td>-2.904025</td>\n",
       "      <td>1.602192</td>\n",
       "      <td>-0.173462</td>\n",
       "      <td>0.854432</td>\n",
       "      <td>1.290236</td>\n",
       "      <td>0.478893</td>\n",
       "      <td>1.327174</td>\n",
       "      <td>-1.462730</td>\n",
       "      <td>-0.156172</td>\n",
       "      <td>0.810261</td>\n",
       "      <td>0.248494</td>\n",
       "      <td>0.143232</td>\n",
       "      <td>0.540415</td>\n",
       "      <td>-0.782163</td>\n",
       "      <td>0.191831</td>\n",
       "      <td>0.002855</td>\n",
       "      <td>-0.155006</td>\n",
       "      <td>79.57</td>\n",
       "      <td>0</td>\n",
       "    </tr>\n",
       "  </tbody>\n",
       "</table>\n",
       "<p>984 rows × 31 columns</p>\n",
       "</div>"
      ],
      "text/plain": [
       "         Time        V1        V2        V3        V4        V5  ...       V25       V26       V27       V28  Amount  Class\n",
       "0       406.0 -2.312227  1.951992 -1.609851  3.997906 -0.522188  ...  0.044519  0.177840  0.261145 -0.143276    0.00      1\n",
       "1       472.0 -3.043541 -3.157307  1.088463  2.288644  1.359805  ...  0.279798 -0.145362 -0.252773  0.035764  529.00      1\n",
       "2      4462.0 -2.303350  1.759247 -0.359745  2.330243 -0.821628  ... -0.156114 -0.542628  0.039566 -0.153029  239.93      1\n",
       "3      6986.0 -4.397974  1.358367 -2.592844  2.679787 -1.128131  ...  0.252405 -0.657488 -0.827136  0.849573   59.00      1\n",
       "4      7519.0  1.234235  3.019740 -4.304597  4.732795  3.624201  ...  1.488901  0.566797 -0.010016  0.146793    1.00      1\n",
       "..        ...       ...       ...       ...       ...       ...  ...       ...       ...       ...       ...     ...    ...\n",
       "979   55850.0 -0.389776  1.080905  1.693269  0.931013 -0.715821  ... -0.660062  0.369355 -0.064798  0.135137    6.47      0\n",
       "980  116151.0  2.240946 -0.756951 -1.644156 -1.215672 -0.091067  ...  0.224627  0.051656 -0.046425 -0.077353    1.00      0\n",
       "981   69741.0 -0.443909  0.419384  1.365417  0.308822  0.779189  ... -0.978630  0.349424  0.220148  0.148724    7.22      0\n",
       "982  131276.0 -1.365932  1.514527 -0.099985 -0.618530 -0.053101  ... -0.384892  0.129566 -0.575644  0.002204    1.98      0\n",
       "983  110234.0 -0.164070  0.442592 -0.112198 -1.251698  2.039565  ... -0.782163  0.191831  0.002855 -0.155006   79.57      0\n",
       "\n",
       "[984 rows x 31 columns]"
      ]
     },
     "execution_count": 180,
     "metadata": {},
     "output_type": "execute_result"
    }
   ],
   "source": [
    "data = fraud.append(non_fraud, ignore_index=True)\n",
    "data"
   ]
  },
  {
   "cell_type": "code",
   "execution_count": 181,
   "metadata": {
    "scrolled": true
   },
   "outputs": [
    {
     "data": {
      "text/plain": [
       "1    492\n",
       "0    492\n",
       "Name: Class, dtype: int64"
      ]
     },
     "execution_count": 181,
     "metadata": {},
     "output_type": "execute_result"
    }
   ],
   "source": [
    "data['Class'].value_counts()"
   ]
  },
  {
   "cell_type": "markdown",
   "metadata": {},
   "source": [
    "## getting target label"
   ]
  },
  {
   "cell_type": "code",
   "execution_count": 182,
   "metadata": {},
   "outputs": [],
   "source": [
    "x = data.drop('Class', axis=1)\n",
    "y = data['Class']"
   ]
  },
  {
   "cell_type": "markdown",
   "metadata": {},
   "source": [
    "## Splitting Data"
   ]
  },
  {
   "cell_type": "code",
   "execution_count": 183,
   "metadata": {},
   "outputs": [],
   "source": [
    "x_train, x_test, y_train, y_test = train_test_split(x, y, test_size = 0.2, random_state = 0, stratify = y)"
   ]
  },
  {
   "cell_type": "code",
   "execution_count": 184,
   "metadata": {
    "scrolled": true
   },
   "outputs": [
    {
     "data": {
      "text/plain": [
       "((787, 30), (197, 30))"
      ]
     },
     "execution_count": 184,
     "metadata": {},
     "output_type": "execute_result"
    }
   ],
   "source": [
    "x_train.shape, x_test.shape"
   ]
  },
  {
   "cell_type": "markdown",
   "metadata": {},
   "source": [
    "## Standardization"
   ]
  },
  {
   "cell_type": "code",
   "execution_count": 185,
   "metadata": {},
   "outputs": [],
   "source": [
    "scaler = StandardScaler()\n",
    "x_train = scaler.fit_transform(x_train)\n",
    "x_test = scaler.transform(x_test) # it avoids overfitting"
   ]
  },
  {
   "cell_type": "code",
   "execution_count": 186,
   "metadata": {},
   "outputs": [],
   "source": [
    "y_train = y_train.to_numpy()\n",
    "y_test = y_test.to_numpy()"
   ]
  },
  {
   "cell_type": "markdown",
   "metadata": {},
   "source": [
    "### CNN during training takes 3 inputs"
   ]
  },
  {
   "cell_type": "code",
   "execution_count": 188,
   "metadata": {},
   "outputs": [
    {
     "data": {
      "text/plain": [
       "(787, 30)"
      ]
     },
     "execution_count": 188,
     "metadata": {},
     "output_type": "execute_result"
    }
   ],
   "source": [
    "x_train.shape # we have 2D data now"
   ]
  },
  {
   "cell_type": "markdown",
   "metadata": {},
   "source": [
    "## Converting to 3D data"
   ]
  },
  {
   "cell_type": "code",
   "execution_count": 189,
   "metadata": {},
   "outputs": [],
   "source": [
    "x_train = x_train.reshape(x_train.shape[0], x_train.shape[1], 1)\n",
    "x_test = x_test.reshape(x_test.shape[0], x_test.shape[1], 1)"
   ]
  },
  {
   "cell_type": "code",
   "execution_count": 190,
   "metadata": {},
   "outputs": [
    {
     "data": {
      "text/plain": [
       "((787, 30, 1), (197, 30, 1))"
      ]
     },
     "execution_count": 190,
     "metadata": {},
     "output_type": "execute_result"
    }
   ],
   "source": [
    "x_train.shape,  x_test.shape # we have 3D data now"
   ]
  },
  {
   "cell_type": "markdown",
   "metadata": {},
   "source": [
    "## Build CNN"
   ]
  },
  {
   "cell_type": "code",
   "execution_count": 192,
   "metadata": {},
   "outputs": [],
   "source": [
    "epochs = 20\n",
    "model = Sequential()\n",
    "model.add(Conv1D(filters = 32, kernel_size = 2, activation = 'relu', input_shape = x_train[0].shape))\n",
    "model.add(BatchNormalization())\n",
    "model.add(Dropout(0.2)) # randomly 20% neaurons will drop after second layer\n",
    " \n",
    "model.add(Conv1D(filters = 64, kernel_size = 2, activation = 'relu'))\n",
    "model.add(BatchNormalization())\n",
    "model.add(Dropout(0.5)) # 50% neaurons will drop after second layer\n",
    "\n",
    "# converting multi dim data to vector\n",
    "model.add(Flatten())\n",
    "model.add(Dense(64, activation = 'relu'))\n",
    "model.add(Dropout(0.5))\n",
    "\n",
    "model.add(Dense(1, activation = 'sigmoid')) # classification hence 1 used"
   ]
  },
  {
   "cell_type": "code",
   "execution_count": 193,
   "metadata": {},
   "outputs": [
    {
     "name": "stdout",
     "output_type": "stream",
     "text": [
      "Model: \"sequential_10\"\n",
      "_________________________________________________________________\n",
      "Layer (type)                 Output Shape              Param #   \n",
      "=================================================================\n",
      "conv1d_18 (Conv1D)           (None, 29, 32)            96        \n",
      "_________________________________________________________________\n",
      "batch_normalization_17 (Batc (None, 29, 32)            128       \n",
      "_________________________________________________________________\n",
      "dropout_24 (Dropout)         (None, 29, 32)            0         \n",
      "_________________________________________________________________\n",
      "conv1d_19 (Conv1D)           (None, 28, 64)            4160      \n",
      "_________________________________________________________________\n",
      "batch_normalization_18 (Batc (None, 28, 64)            256       \n",
      "_________________________________________________________________\n",
      "dropout_25 (Dropout)         (None, 28, 64)            0         \n",
      "_________________________________________________________________\n",
      "flatten_8 (Flatten)          (None, 1792)              0         \n",
      "_________________________________________________________________\n",
      "dense_16 (Dense)             (None, 64)                114752    \n",
      "_________________________________________________________________\n",
      "dropout_26 (Dropout)         (None, 64)                0         \n",
      "_________________________________________________________________\n",
      "dense_17 (Dense)             (None, 1)                 65        \n",
      "=================================================================\n",
      "Total params: 119,457\n",
      "Trainable params: 119,265\n",
      "Non-trainable params: 192\n",
      "_________________________________________________________________\n"
     ]
    }
   ],
   "source": [
    "model.summary()"
   ]
  },
  {
   "cell_type": "code",
   "execution_count": 194,
   "metadata": {},
   "outputs": [],
   "source": [
    "model.compile(optimizer=Adam(lr = 0.0001), loss = 'binary_crossentropy', metrics = ['accuracy'])"
   ]
  },
  {
   "cell_type": "code",
   "execution_count": 195,
   "metadata": {},
   "outputs": [
    {
     "name": "stdout",
     "output_type": "stream",
     "text": [
      "Epoch 1/20\n",
      "25/25 [==============================] - 1s 24ms/step - loss: 0.8607 - accuracy: 0.6188 - val_loss: 0.6380 - val_accuracy: 0.7513\n",
      "Epoch 2/20\n",
      "25/25 [==============================] - 0s 11ms/step - loss: 0.4949 - accuracy: 0.8081 - val_loss: 0.5888 - val_accuracy: 0.7259\n",
      "Epoch 3/20\n",
      "25/25 [==============================] - 0s 11ms/step - loss: 0.4136 - accuracy: 0.8526 - val_loss: 0.5461 - val_accuracy: 0.7665\n",
      "Epoch 4/20\n",
      "25/25 [==============================] - 0s 11ms/step - loss: 0.3723 - accuracy: 0.8666 - val_loss: 0.5059 - val_accuracy: 0.8223\n",
      "Epoch 5/20\n",
      "25/25 [==============================] - 0s 11ms/step - loss: 0.3192 - accuracy: 0.8755 - val_loss: 0.4609 - val_accuracy: 0.8579\n",
      "Epoch 6/20\n",
      "25/25 [==============================] - 0s 11ms/step - loss: 0.3074 - accuracy: 0.8945 - val_loss: 0.4178 - val_accuracy: 0.8629\n",
      "Epoch 7/20\n",
      "25/25 [==============================] - 0s 11ms/step - loss: 0.2976 - accuracy: 0.8996 - val_loss: 0.3807 - val_accuracy: 0.8934\n",
      "Epoch 8/20\n",
      "25/25 [==============================] - 0s 11ms/step - loss: 0.2626 - accuracy: 0.9123 - val_loss: 0.3466 - val_accuracy: 0.8985\n",
      "Epoch 9/20\n",
      "25/25 [==============================] - 0s 11ms/step - loss: 0.2855 - accuracy: 0.8945 - val_loss: 0.3179 - val_accuracy: 0.9036\n",
      "Epoch 10/20\n",
      "25/25 [==============================] - 0s 11ms/step - loss: 0.2628 - accuracy: 0.9047 - val_loss: 0.2992 - val_accuracy: 0.8985\n",
      "Epoch 11/20\n",
      "25/25 [==============================] - 0s 11ms/step - loss: 0.2537 - accuracy: 0.9123 - val_loss: 0.2815 - val_accuracy: 0.8985\n",
      "Epoch 12/20\n",
      "25/25 [==============================] - 0s 11ms/step - loss: 0.2101 - accuracy: 0.9149 - val_loss: 0.2685 - val_accuracy: 0.9036\n",
      "Epoch 13/20\n",
      "25/25 [==============================] - 0s 11ms/step - loss: 0.2325 - accuracy: 0.9174 - val_loss: 0.2595 - val_accuracy: 0.9036\n",
      "Epoch 14/20\n",
      "25/25 [==============================] - 0s 11ms/step - loss: 0.2427 - accuracy: 0.9174 - val_loss: 0.2575 - val_accuracy: 0.9086\n",
      "Epoch 15/20\n",
      "25/25 [==============================] - 0s 11ms/step - loss: 0.2081 - accuracy: 0.9225 - val_loss: 0.2525 - val_accuracy: 0.9086\n",
      "Epoch 16/20\n",
      "25/25 [==============================] - 0s 11ms/step - loss: 0.2289 - accuracy: 0.9212 - val_loss: 0.2505 - val_accuracy: 0.9086\n",
      "Epoch 17/20\n",
      "25/25 [==============================] - 0s 11ms/step - loss: 0.1994 - accuracy: 0.9212 - val_loss: 0.2497 - val_accuracy: 0.9086\n",
      "Epoch 18/20\n",
      "25/25 [==============================] - 0s 12ms/step - loss: 0.2149 - accuracy: 0.9250 - val_loss: 0.2523 - val_accuracy: 0.9137\n",
      "Epoch 19/20\n",
      "25/25 [==============================] - 0s 11ms/step - loss: 0.1887 - accuracy: 0.9276 - val_loss: 0.2543 - val_accuracy: 0.9137\n",
      "Epoch 20/20\n",
      "25/25 [==============================] - 0s 11ms/step - loss: 0.1863 - accuracy: 0.9327 - val_loss: 0.2536 - val_accuracy: 0.9188\n"
     ]
    }
   ],
   "source": [
    "# verbose shows proress of training\n",
    "history = model.fit(x_train, y_train, epochs = epochs, validation_data = (x_test, y_test), verbose = 1)"
   ]
  },
  {
   "cell_type": "markdown",
   "metadata": {},
   "source": [
    "### training accuracy and validation accuracy differs = overfitting model our model"
   ]
  },
  {
   "cell_type": "markdown",
   "metadata": {},
   "source": [
    "## Plotting learning curves"
   ]
  },
  {
   "cell_type": "code",
   "execution_count": 198,
   "metadata": {},
   "outputs": [],
   "source": [
    "def plot_learningCurve(history, epoch):\n",
    "    # plot training and validation accuaracy values\n",
    "    epoch_range = range(1, epoch+1)\n",
    "    plt.plot(epoch_range, history.history['accuracy'])\n",
    "    plt.plot(epoch_range, history.history['val_accuracy'])\n",
    "    plt.title('Model Accuracy')\n",
    "    plt.xlabel('Epoch')\n",
    "    plt.ylabel('Accuracy')\n",
    "    plt.legend(['Train', 'Val'], loc = 'upper_left')\n",
    "    plt.show()\n",
    "    \n",
    "    # plot training and validation loss values\n",
    "    plt.plot(epoch_range, history.history['loss'])\n",
    "    plt.plot(epoch_range, history.history['val_loss'])\n",
    "    plt.title('Model Loss')\n",
    "    plt.xlabel('Epoch')\n",
    "    plt.ylabel('Loss')\n",
    "    plt.legend(['Train', 'Val'], loc = 'upper_left')\n",
    "    plt.show()"
   ]
  },
  {
   "cell_type": "code",
   "execution_count": 199,
   "metadata": {},
   "outputs": [
    {
     "name": "stderr",
     "output_type": "stream",
     "text": [
      "<ipython-input-198-4f23a172f1c9>:9: MatplotlibDeprecationWarning: Unrecognized location 'upper_left'. Falling back on 'best'; valid locations are\n",
      "\tbest\n",
      "\tupper right\n",
      "\tupper left\n",
      "\tlower left\n",
      "\tlower right\n",
      "\tright\n",
      "\tcenter left\n",
      "\tcenter right\n",
      "\tlower center\n",
      "\tupper center\n",
      "\tcenter\n",
      "This will raise an exception in 3.3.\n",
      "  plt.legend(['Train', 'Val'], loc = 'upper_left')\n"
     ]
    },
    {
     "data": {
      "image/png": "[encoded data removed]",
      "text/plain": [
       "<Figure size 432x288 with 1 Axes>"
      ]
     },
     "metadata": {
      "needs_background": "light"
     },
     "output_type": "display_data"
    },
    {
     "name": "stderr",
     "output_type": "stream",
     "text": [
      "<ipython-input-198-4f23a172f1c9>:18: MatplotlibDeprecationWarning: Unrecognized location 'upper_left'. Falling back on 'best'; valid locations are\n",
      "\tbest\n",
      "\tupper right\n",
      "\tupper left\n",
      "\tlower left\n",
      "\tlower right\n",
      "\tright\n",
      "\tcenter left\n",
      "\tcenter right\n",
      "\tlower center\n",
      "\tupper center\n",
      "\tcenter\n",
      "This will raise an exception in 3.3.\n",
      "  plt.legend(['Train', 'Val'], loc = 'upper_left')\n"
     ]
    },
    {
     "data": {
      "image/png": "[encoded data removed]",
      "text/plain": [
       "<Figure size 432x288 with 1 Axes>"
      ]
     },
     "metadata": {
      "needs_background": "light"
     },
     "output_type": "display_data"
    }
   ],
   "source": [
    "plot_learningCurve(history, epochs)"
   ]
  },
  {
   "cell_type": "markdown",
   "metadata": {},
   "source": [
    "### validation loss is less than training loss\n",
    "### from both curves our model is not more overfitting nor underfittting"
   ]
  },
  {
   "cell_type": "markdown",
   "metadata": {},
   "source": [
    "## Addding maxpool to know how model getting accuracy"
   ]
  },
  {
   "cell_type": "code",
   "execution_count": 202,
   "metadata": {},
   "outputs": [],
   "source": [
    "epochs = 20\n",
    "model = Sequential()\n",
    "model.add(Conv1D(filters = 32, kernel_size = 2, activation = 'relu', input_shape = x_train[0].shape))\n",
    "model.add(BatchNormalization())\n",
    "model.add(MaxPool1D(2))\n",
    "model.add(Dropout(0.2)) # randomly 20% neaurons will drop after second layer\n",
    " \n",
    "model.add(Conv1D(filters = 64, kernel_size = 2, activation = 'relu'))\n",
    "model.add(BatchNormalization())\n",
    "model.add(MaxPool1D(2))\n",
    "model.add(Dropout(0.5)) # 50% neaurons will drop after second layer\n",
    "\n",
    "# converting multi dim data to vector\n",
    "model.add(Flatten())\n",
    "model.add(Dense(64, activation = 'relu'))\n",
    "model.add(Dropout(0.5))\n",
    "\n",
    "model.add(Dense(1, activation = 'sigmoid')) # classification hence 1 used"
   ]
  },
  {
   "cell_type": "code",
   "execution_count": 203,
   "metadata": {},
   "outputs": [
    {
     "name": "stdout",
     "output_type": "stream",
     "text": [
      "Epoch 1/20\n",
      "25/25 [==============================] - 1s 25ms/step - loss: 1.2818 - accuracy: 0.4778 - val_loss: 0.6941 - val_accuracy: 0.5838\n",
      "Epoch 2/20\n",
      "25/25 [==============================] - 0s 10ms/step - loss: 0.9683 - accuracy: 0.5718 - val_loss: 0.6560 - val_accuracy: 0.7817\n",
      "Epoch 3/20\n",
      "25/25 [==============================] - 0s 10ms/step - loss: 0.7230 - accuracy: 0.6582 - val_loss: 0.6217 - val_accuracy: 0.8376\n",
      "Epoch 4/20\n",
      "25/25 [==============================] - 0s 10ms/step - loss: 0.6419 - accuracy: 0.7014 - val_loss: 0.5898 - val_accuracy: 0.8376\n",
      "Epoch 5/20\n",
      "25/25 [==============================] - 0s 10ms/step - loss: 0.5984 - accuracy: 0.7357 - val_loss: 0.5590 - val_accuracy: 0.8325\n",
      "Epoch 6/20\n",
      "25/25 [==============================] - 0s 10ms/step - loss: 0.5485 - accuracy: 0.7560 - val_loss: 0.5289 - val_accuracy: 0.8376\n",
      "Epoch 7/20\n",
      "25/25 [==============================] - 0s 10ms/step - loss: 0.4827 - accuracy: 0.7929 - val_loss: 0.5012 - val_accuracy: 0.8477\n",
      "Epoch 8/20\n",
      "25/25 [==============================] - 0s 10ms/step - loss: 0.4942 - accuracy: 0.7967 - val_loss: 0.4759 - val_accuracy: 0.8477\n",
      "Epoch 9/20\n",
      "25/25 [==============================] - 0s 10ms/step - loss: 0.4241 - accuracy: 0.8285 - val_loss: 0.4524 - val_accuracy: 0.8477\n",
      "Epoch 10/20\n",
      "25/25 [==============================] - 0s 10ms/step - loss: 0.4273 - accuracy: 0.8399 - val_loss: 0.4318 - val_accuracy: 0.8477\n",
      "Epoch 11/20\n",
      "25/25 [==============================] - 0s 11ms/step - loss: 0.4124 - accuracy: 0.8437 - val_loss: 0.4142 - val_accuracy: 0.8528\n",
      "Epoch 12/20\n",
      "25/25 [==============================] - 0s 10ms/step - loss: 0.4001 - accuracy: 0.8501 - val_loss: 0.3997 - val_accuracy: 0.8579\n",
      "Epoch 13/20\n",
      "25/25 [==============================] - 0s 10ms/step - loss: 0.3644 - accuracy: 0.8577 - val_loss: 0.3876 - val_accuracy: 0.8680\n",
      "Epoch 14/20\n",
      "25/25 [==============================] - 0s 10ms/step - loss: 0.3884 - accuracy: 0.8551 - val_loss: 0.3788 - val_accuracy: 0.8680\n",
      "Epoch 15/20\n",
      "25/25 [==============================] - 0s 10ms/step - loss: 0.3844 - accuracy: 0.8475 - val_loss: 0.3727 - val_accuracy: 0.8731\n",
      "Epoch 16/20\n",
      "25/25 [==============================] - 0s 10ms/step - loss: 0.3319 - accuracy: 0.8742 - val_loss: 0.3680 - val_accuracy: 0.8731\n",
      "Epoch 17/20\n",
      "25/25 [==============================] - 0s 10ms/step - loss: 0.3536 - accuracy: 0.8704 - val_loss: 0.3639 - val_accuracy: 0.8731\n",
      "Epoch 18/20\n",
      "25/25 [==============================] - 0s 10ms/step - loss: 0.3369 - accuracy: 0.8704 - val_loss: 0.3621 - val_accuracy: 0.8731\n",
      "Epoch 19/20\n",
      "25/25 [==============================] - 0s 10ms/step - loss: 0.3582 - accuracy: 0.8653 - val_loss: 0.3619 - val_accuracy: 0.8731\n",
      "Epoch 20/20\n",
      "25/25 [==============================] - 0s 10ms/step - loss: 0.3551 - accuracy: 0.8704 - val_loss: 0.3623 - val_accuracy: 0.8731\n"
     ]
    },
    {
     "name": "stderr",
     "output_type": "stream",
     "text": [
      "<ipython-input-198-4f23a172f1c9>:9: MatplotlibDeprecationWarning: Unrecognized location 'upper_left'. Falling back on 'best'; valid locations are\n",
      "\tbest\n",
      "\tupper right\n",
      "\tupper left\n",
      "\tlower left\n",
      "\tlower right\n",
      "\tright\n",
      "\tcenter left\n",
      "\tcenter right\n",
      "\tlower center\n",
      "\tupper center\n",
      "\tcenter\n",
      "This will raise an exception in 3.3.\n",
      "  plt.legend(['Train', 'Val'], loc = 'upper_left')\n"
     ]
    },
    {
     "data": {
      "image/png": "[encoded data removed]",
      "text/plain": [
       "<Figure size 432x288 with 1 Axes>"
      ]
     },
     "metadata": {
      "needs_background": "light"
     },
     "output_type": "display_data"
    },
    {
     "name": "stderr",
     "output_type": "stream",
     "text": [
      "<ipython-input-198-4f23a172f1c9>:18: MatplotlibDeprecationWarning: Unrecognized location 'upper_left'. Falling back on 'best'; valid locations are\n",
      "\tbest\n",
      "\tupper right\n",
      "\tupper left\n",
      "\tlower left\n",
      "\tlower right\n",
      "\tright\n",
      "\tcenter left\n",
      "\tcenter right\n",
      "\tlower center\n",
      "\tupper center\n",
      "\tcenter\n",
      "This will raise an exception in 3.3.\n",
      "  plt.legend(['Train', 'Val'], loc = 'upper_left')\n"
     ]
    },
    {
     "data": {
      "image/png": "[encoded data removed]",
      "text/plain": [
       "<Figure size 432x288 with 1 Axes>"
      ]
     },
     "metadata": {
      "needs_background": "light"
     },
     "output_type": "display_data"
    }
   ],
   "source": [
    "model.compile(optimizer=Adam(lr = 0.0001), loss = 'binary_crossentropy', metrics = ['accuracy'])\n",
    "history = model.fit(x_train, y_train, epochs = epochs, validation_data = (x_test, y_test), verbose = 1)\n",
    "plot_learningCurve(history, epochs)"
   ]
  },
  {
   "cell_type": "markdown",
   "metadata": {},
   "source": [
    "### accuracy decreased so maxpool not helping to get more accuracy\n",
    "### val accu > train accu so model is still learning\n",
    "### so we are increasing epochs to see how it is increasig(accuracy)"
   ]
  },
  {
   "cell_type": "code",
   "execution_count": 205,
   "metadata": {},
   "outputs": [
    {
     "name": "stdout",
     "output_type": "stream",
     "text": [
      "Epoch 1/50\n",
      "25/25 [==============================] - 1s 24ms/step - loss: 1.1374 - accuracy: 0.5159 - val_loss: 0.6755 - val_accuracy: 0.6294\n",
      "Epoch 2/50\n",
      "25/25 [==============================] - 0s 10ms/step - loss: 0.9488 - accuracy: 0.6213 - val_loss: 0.6589 - val_accuracy: 0.6497\n",
      "Epoch 3/50\n",
      "25/25 [==============================] - 0s 10ms/step - loss: 0.7733 - accuracy: 0.6595 - val_loss: 0.6356 - val_accuracy: 0.6447\n",
      "Epoch 4/50\n",
      "25/25 [==============================] - 0s 10ms/step - loss: 0.6874 - accuracy: 0.6950 - val_loss: 0.6105 - val_accuracy: 0.6497\n",
      "Epoch 5/50\n",
      "25/25 [==============================] - 0s 10ms/step - loss: 0.6542 - accuracy: 0.7217 - val_loss: 0.5863 - val_accuracy: 0.6599\n",
      "Epoch 6/50\n",
      "25/25 [==============================] - 0s 10ms/step - loss: 0.5565 - accuracy: 0.7573 - val_loss: 0.5599 - val_accuracy: 0.6904\n",
      "Epoch 7/50\n",
      "25/25 [==============================] - 0s 10ms/step - loss: 0.5004 - accuracy: 0.7878 - val_loss: 0.5332 - val_accuracy: 0.7056\n",
      "Epoch 8/50\n",
      "25/25 [==============================] - 0s 10ms/step - loss: 0.4895 - accuracy: 0.7929 - val_loss: 0.5062 - val_accuracy: 0.7360\n",
      "Epoch 9/50\n",
      "25/25 [==============================] - 0s 10ms/step - loss: 0.4914 - accuracy: 0.8081 - val_loss: 0.4844 - val_accuracy: 0.7665\n",
      "Epoch 10/50\n",
      "25/25 [==============================] - 0s 10ms/step - loss: 0.4321 - accuracy: 0.8297 - val_loss: 0.4637 - val_accuracy: 0.7766\n",
      "Epoch 11/50\n",
      "25/25 [==============================] - 0s 11ms/step - loss: 0.4474 - accuracy: 0.8310 - val_loss: 0.4451 - val_accuracy: 0.7919\n",
      "Epoch 12/50\n",
      "25/25 [==============================] - 0s 11ms/step - loss: 0.4298 - accuracy: 0.8310 - val_loss: 0.4269 - val_accuracy: 0.8223\n",
      "Epoch 13/50\n",
      "25/25 [==============================] - 0s 11ms/step - loss: 0.3095 - accuracy: 0.8895 - val_loss: 0.4142 - val_accuracy: 0.8325\n",
      "Epoch 14/50\n",
      "25/25 [==============================] - 0s 10ms/step - loss: 0.3756 - accuracy: 0.8653 - val_loss: 0.4014 - val_accuracy: 0.8528\n",
      "Epoch 15/50\n",
      "25/25 [==============================] - 0s 11ms/step - loss: 0.3912 - accuracy: 0.8463 - val_loss: 0.3918 - val_accuracy: 0.8629\n",
      "Epoch 16/50\n",
      "25/25 [==============================] - 0s 11ms/step - loss: 0.3486 - accuracy: 0.8793 - val_loss: 0.3819 - val_accuracy: 0.8680\n",
      "Epoch 17/50\n",
      "25/25 [==============================] - 0s 10ms/step - loss: 0.3620 - accuracy: 0.8679 - val_loss: 0.3766 - val_accuracy: 0.8782\n",
      "Epoch 18/50\n",
      "25/25 [==============================] - 0s 10ms/step - loss: 0.3506 - accuracy: 0.8564 - val_loss: 0.3729 - val_accuracy: 0.8782\n",
      "Epoch 19/50\n",
      "25/25 [==============================] - 0s 10ms/step - loss: 0.3302 - accuracy: 0.8895 - val_loss: 0.3705 - val_accuracy: 0.8832\n",
      "Epoch 20/50\n",
      "25/25 [==============================] - 0s 11ms/step - loss: 0.3178 - accuracy: 0.8818 - val_loss: 0.3710 - val_accuracy: 0.8934\n",
      "Epoch 21/50\n",
      "25/25 [==============================] - 0s 10ms/step - loss: 0.3427 - accuracy: 0.8780 - val_loss: 0.3681 - val_accuracy: 0.8985\n",
      "Epoch 22/50\n",
      "25/25 [==============================] - 0s 10ms/step - loss: 0.3114 - accuracy: 0.8767 - val_loss: 0.3673 - val_accuracy: 0.8985\n",
      "Epoch 23/50\n",
      "25/25 [==============================] - 0s 10ms/step - loss: 0.2893 - accuracy: 0.8882 - val_loss: 0.3686 - val_accuracy: 0.8985\n",
      "Epoch 24/50\n",
      "25/25 [==============================] - 0s 10ms/step - loss: 0.3108 - accuracy: 0.8920 - val_loss: 0.3698 - val_accuracy: 0.8985\n",
      "Epoch 25/50\n",
      "25/25 [==============================] - 0s 10ms/step - loss: 0.2877 - accuracy: 0.8907 - val_loss: 0.3700 - val_accuracy: 0.8985\n",
      "Epoch 26/50\n",
      "25/25 [==============================] - 0s 10ms/step - loss: 0.3134 - accuracy: 0.8780 - val_loss: 0.3740 - val_accuracy: 0.8985\n",
      "Epoch 27/50\n",
      "25/25 [==============================] - 0s 11ms/step - loss: 0.2708 - accuracy: 0.8933 - val_loss: 0.3755 - val_accuracy: 0.9036\n",
      "Epoch 28/50\n",
      "25/25 [==============================] - 0s 11ms/step - loss: 0.2611 - accuracy: 0.9060 - val_loss: 0.3758 - val_accuracy: 0.9036\n",
      "Epoch 29/50\n",
      "25/25 [==============================] - 0s 10ms/step - loss: 0.2700 - accuracy: 0.9034 - val_loss: 0.3740 - val_accuracy: 0.9036\n",
      "Epoch 30/50\n",
      "25/25 [==============================] - 0s 11ms/step - loss: 0.2825 - accuracy: 0.8933 - val_loss: 0.3761 - val_accuracy: 0.9036\n",
      "Epoch 31/50\n",
      "25/25 [==============================] - 0s 10ms/step - loss: 0.3297 - accuracy: 0.8793 - val_loss: 0.3765 - val_accuracy: 0.8985\n",
      "Epoch 32/50\n",
      "25/25 [==============================] - 0s 10ms/step - loss: 0.2752 - accuracy: 0.8945 - val_loss: 0.3763 - val_accuracy: 0.8985\n",
      "Epoch 33/50\n",
      "25/25 [==============================] - 0s 10ms/step - loss: 0.2572 - accuracy: 0.9111 - val_loss: 0.3763 - val_accuracy: 0.8985\n",
      "Epoch 34/50\n",
      "25/25 [==============================] - 0s 10ms/step - loss: 0.2517 - accuracy: 0.9212 - val_loss: 0.3755 - val_accuracy: 0.8985\n",
      "Epoch 35/50\n",
      "25/25 [==============================] - 0s 10ms/step - loss: 0.2515 - accuracy: 0.9098 - val_loss: 0.3742 - val_accuracy: 0.8985\n",
      "Epoch 36/50\n",
      "25/25 [==============================] - 0s 9ms/step - loss: 0.2912 - accuracy: 0.8945 - val_loss: 0.3746 - val_accuracy: 0.8985\n",
      "Epoch 37/50\n",
      "25/25 [==============================] - 0s 10ms/step - loss: 0.2528 - accuracy: 0.9199 - val_loss: 0.3744 - val_accuracy: 0.8985\n",
      "Epoch 38/50\n",
      "25/25 [==============================] - 0s 10ms/step - loss: 0.2814 - accuracy: 0.8996 - val_loss: 0.3723 - val_accuracy: 0.8985\n",
      "Epoch 39/50\n",
      "25/25 [==============================] - 0s 10ms/step - loss: 0.2444 - accuracy: 0.9174 - val_loss: 0.3730 - val_accuracy: 0.8985\n",
      "Epoch 40/50\n",
      "25/25 [==============================] - 0s 10ms/step - loss: 0.2401 - accuracy: 0.9136 - val_loss: 0.3748 - val_accuracy: 0.8985\n",
      "Epoch 41/50\n",
      "25/25 [==============================] - 0s 10ms/step - loss: 0.2527 - accuracy: 0.9060 - val_loss: 0.3751 - val_accuracy: 0.8985\n",
      "Epoch 42/50\n",
      "25/25 [==============================] - 0s 10ms/step - loss: 0.2697 - accuracy: 0.9060 - val_loss: 0.3765 - val_accuracy: 0.8985\n",
      "Epoch 43/50\n",
      "25/25 [==============================] - 0s 10ms/step - loss: 0.2509 - accuracy: 0.9098 - val_loss: 0.3768 - val_accuracy: 0.8985\n",
      "Epoch 44/50\n",
      "25/25 [==============================] - 0s 10ms/step - loss: 0.2610 - accuracy: 0.9136 - val_loss: 0.3780 - val_accuracy: 0.8985\n",
      "Epoch 45/50\n",
      "25/25 [==============================] - 0s 10ms/step - loss: 0.2317 - accuracy: 0.9174 - val_loss: 0.3747 - val_accuracy: 0.8985\n",
      "Epoch 46/50\n",
      "25/25 [==============================] - 0s 10ms/step - loss: 0.2650 - accuracy: 0.9136 - val_loss: 0.3761 - val_accuracy: 0.8985\n",
      "Epoch 47/50\n",
      "25/25 [==============================] - 0s 10ms/step - loss: 0.2772 - accuracy: 0.9047 - val_loss: 0.3775 - val_accuracy: 0.8985\n",
      "Epoch 48/50\n",
      "25/25 [==============================] - 0s 10ms/step - loss: 0.2524 - accuracy: 0.9022 - val_loss: 0.3760 - val_accuracy: 0.8985\n",
      "Epoch 49/50\n",
      "25/25 [==============================] - 0s 10ms/step - loss: 0.2459 - accuracy: 0.9072 - val_loss: 0.3732 - val_accuracy: 0.8985\n",
      "Epoch 50/50\n",
      "25/25 [==============================] - 0s 10ms/step - loss: 0.2482 - accuracy: 0.9149 - val_loss: 0.3719 - val_accuracy: 0.8985\n"
     ]
    },
    {
     "name": "stderr",
     "output_type": "stream",
     "text": [
      "<ipython-input-198-4f23a172f1c9>:9: MatplotlibDeprecationWarning: Unrecognized location 'upper_left'. Falling back on 'best'; valid locations are\n",
      "\tbest\n",
      "\tupper right\n",
      "\tupper left\n",
      "\tlower left\n",
      "\tlower right\n",
      "\tright\n",
      "\tcenter left\n",
      "\tcenter right\n",
      "\tlower center\n",
      "\tupper center\n",
      "\tcenter\n",
      "This will raise an exception in 3.3.\n",
      "  plt.legend(['Train', 'Val'], loc = 'upper_left')\n"
     ]
    },
    {
     "data": {
      "image/png": "[encoded data removed]",
      "text/plain": [
       "<Figure size 432x288 with 1 Axes>"
      ]
     },
     "metadata": {
      "needs_background": "light"
     },
     "output_type": "display_data"
    },
    {
     "name": "stderr",
     "output_type": "stream",
     "text": [
      "<ipython-input-198-4f23a172f1c9>:18: MatplotlibDeprecationWarning: Unrecognized location 'upper_left'. Falling back on 'best'; valid locations are\n",
      "\tbest\n",
      "\tupper right\n",
      "\tupper left\n",
      "\tlower left\n",
      "\tlower right\n",
      "\tright\n",
      "\tcenter left\n",
      "\tcenter right\n",
      "\tlower center\n",
      "\tupper center\n",
      "\tcenter\n",
      "This will raise an exception in 3.3.\n",
      "  plt.legend(['Train', 'Val'], loc = 'upper_left')\n"
     ]
    },
    {
     "data": {
      "image/png": "[encoded data removed]",
      "text/plain": [
       "<Figure size 432x288 with 1 Axes>"
      ]
     },
     "metadata": {
      "needs_background": "light"
     },
     "output_type": "display_data"
    }
   ],
   "source": [
    "epochs = 50\n",
    "model = Sequential()\n",
    "model.add(Conv1D(filters = 32, kernel_size = 2, activation = 'relu', input_shape = x_train[0].shape))\n",
    "model.add(BatchNormalization())\n",
    "model.add(MaxPool1D(2))\n",
    "model.add(Dropout(0.2)) # randomly 20% neaurons will drop after second layer\n",
    " \n",
    "model.add(Conv1D(filters = 64, kernel_size = 2, activation = 'relu'))\n",
    "model.add(BatchNormalization())\n",
    "model.add(MaxPool1D(2))\n",
    "model.add(Dropout(0.5)) # 50% neaurons will drop after second layer\n",
    "\n",
    "# converting multi dim data to vector\n",
    "model.add(Flatten())\n",
    "model.add(Dense(64, activation = 'relu'))\n",
    "model.add(Dropout(0.5))\n",
    "\n",
    "model.add(Dense(1, activation = 'sigmoid')) # classification hence 1 used\n",
    "\n",
    "model.compile(optimizer=Adam(lr = 0.0001), loss = 'binary_crossentropy', metrics = ['accuracy'])\n",
    "\n",
    "history = model.fit(x_train, y_train, epochs = epochs, validation_data = (x_test, y_test), verbose = 1)\n",
    "\n",
    "plot_learningCurve(history, epochs)"
   ]
  },
  {
   "cell_type": "markdown",
   "metadata": {},
   "source": [
    "### after 20 epochs we reach to same accuracy saturation by adding pooling layer"
   ]
  }
 ],
 "metadata": {
  "kernelspec": {
   "display_name": "Python 3",
   "language": "python",
   "name": "python3"
  },
  "language_info": {
   "codemirror_mode": {
    "name": "ipython",
    "version": 3
   },
   "file_extension": ".py",
   "mimetype": "text/x-python",
   "name": "python",
   "nbconvert_exporter": "python",
   "pygments_lexer": "ipython3",
   "version": "3.8.3"
  }
 },
 "nbformat": 4,
 "nbformat_minor": 4
}
